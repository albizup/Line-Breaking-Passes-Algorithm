{
 "cells": [
  {
   "cell_type": "code",
   "execution_count": 1,
   "id": "62f235de",
   "metadata": {},
   "outputs": [],
   "source": [
    "# Import Pandas\n",
    "import pandas as pd\n",
    "pd.set_option('display.max_columns', None)\n",
    "\n",
    "# Reading and creating directories\n",
    "import os\n",
    "\n",
    "# Ignore warnings\n",
    "import warnings\n",
    "warnings.simplefilter(action='ignore', category=pd.errors.PerformanceWarning)\n",
    "warnings.filterwarnings(action=\"ignore\", message=\"credentials were not supplied. open data access only\")\n",
    "\n",
    "# Progress bar\n",
    "import tqdm\n",
    "\n",
    "# Reload modules\n",
    "%load_ext autoreload\n",
    "%autoreload 2\n",
    "\n",
    "# Import Socceraction modules to load and manipulate StatsBomb open data\n",
    "from socceraction.data.statsbomb import StatsBombLoader\n",
    "import socceraction.spadl as spadl\n",
    "import socceraction.xthreat as xthreat\n",
    "\n",
    "# Import Statsbombpy to load StatsBomb360\n",
    "from statsbombpy import sb"
   ]
  },
  {
   "cell_type": "code",
   "execution_count": 2,
   "id": "08a5a3ad",
   "metadata": {},
   "outputs": [],
   "source": [
    "# Initiate the loader\n",
    "SBL = StatsBombLoader()\n",
    "\n",
    "# View all available competitions \n",
    "#SBL.competitions() "
   ]
  },
  {
   "cell_type": "code",
   "execution_count": 3,
   "id": "0ca570df",
   "metadata": {},
   "outputs": [],
   "source": [
    "# Euro2020: competition_id=55, season_id=43\n",
    "\n",
    "# Get all games of Euro2020\n",
    "games = SBL.games(competition_id=55, season_id=43)"
   ]
  },
  {
   "cell_type": "code",
   "execution_count": 5,
   "id": "2eb94594",
   "metadata": {},
   "outputs": [
    {
     "name": "stderr",
     "output_type": "stream",
     "text": [
      "Loading game data: 100%|███████████████████████████████████████████████████████████████| 51/51 [03:31<00:00,  4.14s/it]\n"
     ]
    }
   ],
   "source": [
    "# Create progress bar and iterator\n",
    "games_verbose = tqdm.tqdm(list(games.itertuples()), desc=\"Loading game data\")\n",
    "\n",
    "# Lists and dictionaries to store information\n",
    "teams, players = [], []\n",
    "events, actions, frames = {},{},{}\n",
    "\n",
    "# Iterate over games\n",
    "for game in games_verbose:\n",
    "    # load data (game.game_id provides the id of each match)\n",
    "    teams.append(SBL.teams(game.game_id))\n",
    "    players.append(SBL.players(game.game_id))\n",
    "    events[game.game_id] = SBL.events(game.game_id)\n",
    "    frames[game.game_id] = sb.frames(match_id = game.game_id, fmt='dataframe')\n",
    "    \n",
    "    # Convert data to spadl \n",
    "    actions[game.game_id] = spadl.statsbomb.convert_to_actions(events[game.game_id], game.home_team_id)\n",
    "    actions[game.game_id] = spadl.add_names(actions[game.game_id])\n",
    "    \n",
    "    # Add xT value to each action\n",
    "    url_grid = \"https://karun.in/blog/data/open_xt_12x8_v1.json\"\n",
    "    xT_model = xthreat.load_model(url_grid)\n",
    "    df_actions_ltr = spadl.play_left_to_right(actions[game.game_id], game.home_team_id)\n",
    "    xT_list = xT_model.rate(df_actions_ltr)\n",
    "    xT_list = [round(num,3) for num in xT_list]\n",
    "    actions[game.game_id]['xT'] = xT_list\n",
    "    \n",
    "    # Add supplementary information to each action that aren't include in the SPADL format\n",
    "    df_additional = events[game.game_id][['event_id','under_pressure','duration']]\n",
    "    actions[game.game_id] = actions[game.game_id].merge(df_additional, left_on = 'original_event_id', right_on = 'event_id')\n",
    "    actions[game.game_id].drop('event_id',axis = 1, inplace = True)\n",
    "    \n",
    "    # Split Location in the SB360 datafram and convert to a 105 m x 68 m  pitch\n",
    "    frames[game.game_id]['loc_x'] = frames[game.game_id].location.apply(lambda x: x[0] if x else 1).clip(1, 120)\n",
    "    frames[game.game_id]['loc_y'] = frames[game.game_id].location.apply(lambda x: x[1] if x else 1).clip(1, 80)\n",
    "    frames[game.game_id]['loc_x'] = ((frames[game.game_id]['loc_x'] - 1) / 119) * 105\n",
    "    frames[game.game_id]['loc_y'] = 68 - ((frames[game.game_id]['loc_y'] - 1) / 79) * 68\n",
    "\n",
    "# Create teams and players dataframe    \n",
    "teams = pd.concat(teams).drop_duplicates(subset=\"team_id\")\n",
    "players = pd.concat(players)\n",
    "\n",
    "# Choose the folder's path\n",
    "datafolder = \"../statsbomb\"\n",
    "\n",
    "# Create data folder if it doesn't exist\n",
    "if not os.path.exists(datafolder):\n",
    "    os.mkdir(datafolder)\n",
    "    print(f\"Directory {datafolder} created.\")\n",
    "\n",
    "euro2020 = os.path.join(datafolder, \"euro2020.h5\")\n",
    "\n",
    "# Store all data in h5-file\n",
    "with pd.HDFStore(euro2020) as spadlstore:\n",
    "    spadlstore[\"games\"] = games\n",
    "    spadlstore[\"teams\"] = teams\n",
    "    spadlstore[\"players\"] = players[['player_id', 'player_name']].drop_duplicates(subset='player_id')\n",
    "    spadlstore[\"player_games\"] = players[['player_id', 'game_id', 'team_id', 'is_starter', 'minutes_played','starting_position_name']]\n",
    "    for game_id in actions.keys():\n",
    "        spadlstore[f\"events/game_{game_id}\"] = events[game_id]\n",
    "        spadlstore[f\"actions/game_{game_id}\"] = actions[game_id]\n",
    "        spadlstore[f\"frames/game_{game_id}\"] = frames[game_id]"
   ]
  },
  {
   "cell_type": "code",
   "execution_count": null,
   "id": "4eb1e302",
   "metadata": {},
   "outputs": [],
   "source": []
  }
 ],
 "metadata": {
  "kernelspec": {
   "display_name": "Python 3 (ipykernel)",
   "language": "python",
   "name": "python3"
  },
  "language_info": {
   "codemirror_mode": {
    "name": "ipython",
    "version": 3
   },
   "file_extension": ".py",
   "mimetype": "text/x-python",
   "name": "python",
   "nbconvert_exporter": "python",
   "pygments_lexer": "ipython3",
   "version": "3.8.5"
  }
 },
 "nbformat": 4,
 "nbformat_minor": 5
}
